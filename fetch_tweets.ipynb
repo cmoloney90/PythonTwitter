{
 "cells": [
  {
   "cell_type": "code",
   "execution_count": 1,
   "metadata": {
    "collapsed": true
   },
   "outputs": [],
   "source": [
    "import tweepy\n",
    "from tweepy import OAuthHandler\n",
    "\n",
    "consumerKey = \"vsSIIkAIyO2zKZgsWe9BRyPAd\"\n",
    "consumerSecret = \"pyocm4TDWyxPSd2z103qDobfmDX0v5sYluzQeocBRihLxx36kj\"\n",
    "accessToken = \"202614455-WHgsAyyzTvouc72VCl2x3g1Bwaavp4H5tjYUvaZI\"\n",
    "accessSecret = \"hajZTABx1dIfpkiMMJUaK9NAaNyur3BSdFPtv3BPgPZQR\"\n",
    "\n",
    "auth = OAuthHandler(consumerKey, consumerSecret)\n",
    "auth.set_access_token(accessToken, accessSecret)\n",
    "\n",
    "api = tweepy.API(auth)"
   ]
  },
  {
   "cell_type": "code",
   "execution_count": null,
   "metadata": {
    "collapsed": false
   },
   "outputs": [],
   "source": [
    "from tweepy import Stream\n",
    "from tweepy.streaming import StreamListener\n",
    "\n",
    "class MyListener(StreamListener):\n",
    "    \n",
    "    def on_data(self, data):\n",
    "        try:\n",
    "            with open('brexit.json','a') as f:\n",
    "                f.write(data)\n",
    "                return True\n",
    "        except BaseException as e:\n",
    "            print(\"Error on_data: %s\" % str(e))\n",
    "        return True\n",
    "    \n",
    "    def on_error(self, status):\n",
    "        print(status)\n",
    "        return True\n",
    "    \n",
    "twitter_stream = Stream(auth, MyListener())\n",
    "twitter_stream.filter(track=['#brexit','#no2eu','#notoeu','#betteroffout','#voteout','#eureform','#britainout',\n",
    "                            '#leaveeu','#voteleave','#beleave','#loveeuropeleaveeu','#leaveeu','#yes2eu','#yestoeu',\n",
    "                            '#yestoeu','#betteroffin','#votein','#ukineu','#bremain','#strongerin','#leadnotleave',\n",
    "                             '#voteremain'])"
   ]
  }
 ],
 "metadata": {
  "kernelspec": {
   "display_name": "Python 2",
   "language": "python",
   "name": "python2"
  },
  "language_info": {
   "codemirror_mode": {
    "name": "ipython",
    "version": 2
   },
   "file_extension": ".py",
   "mimetype": "text/x-python",
   "name": "python",
   "nbconvert_exporter": "python",
   "pygments_lexer": "ipython2",
   "version": "2.7.10"
  }
 },
 "nbformat": 4,
 "nbformat_minor": 0
}
